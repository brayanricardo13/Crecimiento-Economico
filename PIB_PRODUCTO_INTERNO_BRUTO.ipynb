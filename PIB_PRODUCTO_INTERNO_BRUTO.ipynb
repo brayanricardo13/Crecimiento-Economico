{
  "nbformat": 4,
  "nbformat_minor": 0,
  "metadata": {
    "colab": {
      "name": "PIB-PRODUCTO INTERNO BRUTO",
      "provenance": [],
      "collapsed_sections": [],
      "authorship_tag": "ABX9TyPkk1cqVQ2inewPQbGpELjj",
      "include_colab_link": true
    },
    "kernelspec": {
      "name": "python3",
      "display_name": "Python 3"
    },
    "language_info": {
      "name": "python"
    }
  },
  "cells": [
    {
      "cell_type": "markdown",
      "metadata": {
        "id": "view-in-github",
        "colab_type": "text"
      },
      "source": [
        "<a href=\"https://colab.research.google.com/github/brayanricardo13/Crecimiento-Economico/blob/main/PIB_PRODUCTO_INTERNO_BRUTO.ipynb\" target=\"_parent\"><img src=\"https://colab.research.google.com/assets/colab-badge.svg\" alt=\"Open In Colab\"/></a>"
      ]
    },
    {
      "cell_type": "code",
      "execution_count": 1,
      "metadata": {
        "id": "Sgq5AtgcL4q3"
      },
      "outputs": [],
      "source": [
        "from openpyxl import workbook   # leer excel \n",
        "from openpyxl import load_workbook \n",
        "import pandas as pd"
      ]
    },
    {
      "cell_type": "code",
      "source": [
        "from google.colab import drive\n",
        "drive.mount('/content/drive')"
      ],
      "metadata": {
        "colab": {
          "base_uri": "https://localhost:8080/"
        },
        "id": "-ya0yqgkSWdt",
        "outputId": "a538af96-7a70-48be-e169-25d0dff5ca8d"
      },
      "execution_count": 2,
      "outputs": [
        {
          "output_type": "stream",
          "name": "stdout",
          "text": [
            "Mounted at /content/drive\n"
          ]
        }
      ]
    },
    {
      "cell_type": "code",
      "source": [
        "Produccion_constantes = load_workbook(\"/content/drive/MyDrive/U CENTRAL ECONOMÍA/DOCUMENTOS ADICIONALES/CURSOS/MEDICION ECONOMICA/PRODUCTO INTERNO BRUTO/Anexos_produccion_constantes_I_2022.xlsx\") "
      ],
      "metadata": {
        "id": "0DVTMR8yScBn"
      },
      "execution_count": 7,
      "outputs": []
    },
    {
      "cell_type": "code",
      "source": [
        "Produccion_Corrientes = load_workbook(\"/content/drive/MyDrive/U CENTRAL ECONOMÍA/DOCUMENTOS ADICIONALES/CURSOS/MEDICION ECONOMICA/PRODUCTO INTERNO BRUTO/Anexos_produccion_corrientes_I_2022.xlsx\") "
      ],
      "metadata": {
        "id": "cBvYR3iaUAWl"
      },
      "execution_count": 9,
      "outputs": []
    },
    {
      "cell_type": "code",
      "source": [
        "PIB  = Produccion_constantes[\"Cuadro 1\"] "
      ],
      "metadata": {
        "id": "qvM0CKPgUAp_"
      },
      "execution_count": 10,
      "outputs": []
    }
  ]
}